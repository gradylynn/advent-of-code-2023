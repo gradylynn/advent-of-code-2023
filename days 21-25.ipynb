{
 "cells": [
  {
   "cell_type": "markdown",
   "metadata": {},
   "source": [
    "Day 21 (https://adventofcode.com/2023/day/21)"
   ]
  },
  {
   "cell_type": "code",
   "execution_count": 1,
   "metadata": {},
   "outputs": [
    {
     "name": "stdout",
     "output_type": "stream",
     "text": [
      "Answer to Day 21, Part 1: 3646\n",
      "Answer to Day 21, Part 2: 606188414811259\n"
     ]
    }
   ],
   "source": [
    "import numpy as np\n",
    "import networkx as nx\n",
    "\n",
    "with open('./inputs/day21.txt', 'r') as f:\n",
    "    garden_map = np.array([list(l.strip()) for l in f.readlines()])\n",
    "\n",
    "    # I'll brute force part 1, knowing full well that probs won't work for part 2\n",
    "    possibilities = [tuple(np.argwhere(garden_map=='S')[0])]\n",
    "    for i in range(64):\n",
    "        new_possibilities = []\n",
    "        for p in possibilities:\n",
    "            if p[0] > 0 and garden_map[(p[0]-1, p[1])] != '#':\n",
    "                new_possibilities.append((p[0]-1, p[1]))\n",
    "            if p[1] > 0 and garden_map[(p[0], p[1]-1)] != '#':\n",
    "                new_possibilities.append((p[0], p[1]-1))\n",
    "            if p[0]+1 < garden_map.shape[0] and garden_map[(p[0]+1, p[1])] != '#':\n",
    "                new_possibilities.append((p[0]+1, p[1]))\n",
    "            if p[1]+1 < garden_map.shape[1] and garden_map[(p[0], p[1]+1)] != '#':\n",
    "                new_possibilities.append((p[0], p[1]+1))\n",
    "\n",
    "        possibilities = list(set(new_possibilities))\n",
    "\n",
    "    print('Answer to Day 21, Part 1:', len(possibilities))\n",
    "\n",
    "    # very difficult\n",
    "    # lot's of manual and pen-on-paper stuff that I don't feel like showing here,\n",
    "    # but I got the answer\n",
    "    part2_ans = 7424*(202300**2) + \\\n",
    "        7388*(202301**2) + \\\n",
    "        (933 + 941 + 948 + 956)*202300 - \\\n",
    "        (893 + 907 + 916 + 913)*202301\n",
    "\n",
    "    print('Answer to Day 21, Part 2:', part2_ans)"
   ]
  }
 ],
 "metadata": {
  "kernelspec": {
   "display_name": "Python 3.7.4 ('base')",
   "language": "python",
   "name": "python3"
  },
  "language_info": {
   "codemirror_mode": {
    "name": "ipython",
    "version": 3
   },
   "file_extension": ".py",
   "mimetype": "text/x-python",
   "name": "python",
   "nbconvert_exporter": "python",
   "pygments_lexer": "ipython3",
   "version": "3.9.16"
  },
  "orig_nbformat": 4,
  "vscode": {
   "interpreter": {
    "hash": "18d1d3ba97577ef9370b2a90079ae3bfd326b2837f9027163a6623b63a7aa69b"
   }
  }
 },
 "nbformat": 4,
 "nbformat_minor": 2
}
