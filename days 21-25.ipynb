{
 "cells": [
  {
   "cell_type": "markdown",
   "metadata": {},
   "source": [
    "Day 21 (https://adventofcode.com/2023/day/21)"
   ]
  },
  {
   "cell_type": "code",
   "execution_count": 1,
   "metadata": {},
   "outputs": [
    {
     "name": "stdout",
     "output_type": "stream",
     "text": [
      "Answer to Day 21, Part 1: 3646\n",
      "Answer to Day 21, Part 2: 606188414811259\n"
     ]
    }
   ],
   "source": [
    "import numpy as np\n",
    "\n",
    "with open('./inputs/day21.txt', 'r') as f:\n",
    "    garden_map = np.array([list(l.strip()) for l in f.readlines()])\n",
    "\n",
    "    # I'll brute force part 1, knowing full well that probs won't work for part 2\n",
    "    possibilities = [tuple(np.argwhere(garden_map=='S')[0])]\n",
    "    for i in range(64):\n",
    "        new_possibilities = []\n",
    "        for p in possibilities:\n",
    "            if p[0] > 0 and garden_map[(p[0]-1, p[1])] != '#':\n",
    "                new_possibilities.append((p[0]-1, p[1]))\n",
    "            if p[1] > 0 and garden_map[(p[0], p[1]-1)] != '#':\n",
    "                new_possibilities.append((p[0], p[1]-1))\n",
    "            if p[0]+1 < garden_map.shape[0] and garden_map[(p[0]+1, p[1])] != '#':\n",
    "                new_possibilities.append((p[0]+1, p[1]))\n",
    "            if p[1]+1 < garden_map.shape[1] and garden_map[(p[0], p[1]+1)] != '#':\n",
    "                new_possibilities.append((p[0], p[1]+1))\n",
    "\n",
    "        possibilities = list(set(new_possibilities))\n",
    "\n",
    "    print('Answer to Day 21, Part 1:', len(possibilities))\n",
    "\n",
    "    # very difficult\n",
    "    # lot's of manual and pen-on-paper stuff that I don't feel like showing here,\n",
    "    # but I got the answer\n",
    "    part2_ans = 7424*(202300**2) + \\\n",
    "        7388*(202301**2) + \\\n",
    "        (933 + 941 + 948 + 956)*202300 - \\\n",
    "        (893 + 907 + 916 + 913)*202301\n",
    "\n",
    "    print('Answer to Day 21, Part 2:', part2_ans)"
   ]
  },
  {
   "cell_type": "markdown",
   "metadata": {},
   "source": [
    "Day 22 (https://adventofcode.com/2023/day/22)"
   ]
  },
  {
   "cell_type": "code",
   "execution_count": 2,
   "metadata": {},
   "outputs": [
    {
     "name": "stdout",
     "output_type": "stream",
     "text": [
      "Answer to Day 22, Part 1: 405\n",
      "Answer to Day 22, Part 2: 61297\n"
     ]
    }
   ],
   "source": [
    "import numpy as np\n",
    "\n",
    "with open('./inputs/day22.txt', 'r') as f:\n",
    "    bricks = []\n",
    "    for line in f.readlines():\n",
    "        split_line = line.strip().split('~')\n",
    "        bricks.append(\n",
    "            {\n",
    "                'x1': int(split_line[0].split(',')[0]),\n",
    "                'y1': int(split_line[0].split(',')[1]),\n",
    "                'z1': int(split_line[0].split(',')[2]),\n",
    "                'x2': int(split_line[1].split(',')[0]),\n",
    "                'y2': int(split_line[1].split(',')[1]),\n",
    "                'z2': int(split_line[1].split(',')[2])\n",
    "            }\n",
    "        )\n",
    "\n",
    "    brick_map = np.zeros(shape=(\n",
    "        max(max(b['x1'], b['x2']) for b in bricks)+1,\n",
    "        max(max(b['y1'], b['y2']) for b in bricks)+1,\n",
    "        max(max(b['z1'], b['z2']) for b in bricks)+1,\n",
    "    )) - 1\n",
    "\n",
    "    for i, b in enumerate(bricks):\n",
    "        brick_map[\n",
    "            min(b['x1'], b['x2']) : max(b['x1'], b['x2'])+1,\n",
    "            min(b['y1'], b['y2']) : max(b['y1'], b['y2'])+1,\n",
    "            min(b['z1'], b['z2']) : max(b['z1'], b['z2'])+1,\n",
    "        ] = i\n",
    "\n",
    "    settled_brick_map = np.zeros(shape=brick_map.shape) - 1\n",
    "\n",
    "    supported_by_dict = {}\n",
    "    for i in sorted(range(len(bricks)), key = lambda x: min(bricks[x]['z1'], bricks[x]['z2'])):\n",
    "        brick_blocks = np.argwhere(brick_map==i)\n",
    "        underbrick_map = settled_brick_map[\n",
    "            min(brick_blocks[:, 0]) : max(brick_blocks[:, 0])+1,\n",
    "            min(brick_blocks[:, 1]) : max(brick_blocks[:, 1])+1,\n",
    "            0 : min(brick_blocks[:, 2])\n",
    "        ]\n",
    "        nonempty_underbricks = np.argwhere(underbrick_map!=-1)\n",
    "        m = len(nonempty_underbricks) and max(nonempty_underbricks[:, 2])\n",
    "\n",
    "        supported_by_dict[i] = set(int(underbrick_map[tuple(x)]) for x in nonempty_underbricks if x[2] == m)\n",
    "        settled_brick_map[\n",
    "            min(brick_blocks[:, 0]) : max(brick_blocks[:, 0])+1,\n",
    "            min(brick_blocks[:, 1]) : max(brick_blocks[:, 1])+1,\n",
    "            m + 1 : max(brick_blocks[:, 2]) - min(brick_blocks[:, 2]) + m + 2\n",
    "        ] = i\n",
    "\n",
    "    single_point_of_failure_bricks = set(next(iter(b)) for b in supported_by_dict.values() if len(b)==1)\n",
    "    print('Answer to Day 22, Part 1:', len(bricks) - len(single_point_of_failure_bricks))\n",
    "\n",
    "    supporting_dict = {k : set(x for x in supported_by_dict if k in supported_by_dict[x]) for k in supported_by_dict}\n",
    "\n",
    "    def get_num_falling(disintegrate_index):\n",
    "        falling_bricks = [disintegrate_index]\n",
    "        keep_going = True\n",
    "        while keep_going:\n",
    "            keep_going = False\n",
    "            for falling_brick in falling_bricks:\n",
    "                for potential_fall in supporting_dict[falling_brick]:\n",
    "                    if potential_fall not in falling_bricks and all(b in falling_bricks for b in supported_by_dict[potential_fall]):\n",
    "                        keep_going = True\n",
    "                        falling_bricks.append(potential_fall)\n",
    "\n",
    "        return len(falling_bricks) - 1\n",
    "    \n",
    "    print('Answer to Day 22, Part 2:', sum(get_num_falling(b) for b in single_point_of_failure_bricks))"
   ]
  },
  {
   "cell_type": "markdown",
   "metadata": {},
   "source": [
    "Day 23 (https://adventofcode.com/2023/day/23)"
   ]
  },
  {
   "cell_type": "code",
   "execution_count": 3,
   "metadata": {},
   "outputs": [
    {
     "name": "stdout",
     "output_type": "stream",
     "text": [
      "Answer to Day 23, Part 1: 2386\n",
      "Answer to Day 23, Part 2: 6246\n"
     ]
    }
   ],
   "source": [
    "import numpy as np\n",
    "import networkx as nx\n",
    "\n",
    "with open('./inputs/day23.txt', 'r') as f:\n",
    "    hike_map = np.array([list(l.strip()) for l in f.readlines()])\n",
    "    hike_graph = nx.grid_2d_graph(n=hike_map.shape[0], m=hike_map.shape[1], create_using=nx.DiGraph)\n",
    "    hike_graph.remove_nodes_from(map(tuple, np.argwhere(hike_map=='#')))\n",
    "\n",
    "    for i, j in np.argwhere(hike_map=='v'):\n",
    "        for x, y in hike_graph[(i, j)].copy():\n",
    "            if i + 1 != x:\n",
    "                hike_graph.remove_edge((i, j), (x, y))\n",
    "\n",
    "    for i, j in np.argwhere(hike_map=='^'):\n",
    "        for x, y in hike_graph[(i, j)].copy():\n",
    "            if i - 1 != x:\n",
    "                hike_graph.remove_edge((i, j), (x, y))\n",
    "\n",
    "    for i, j in np.argwhere(hike_map=='>'):\n",
    "        for x, y in hike_graph[(i, j)].copy():\n",
    "            if j + 1 != y:\n",
    "                hike_graph.remove_edge((i, j), (x, y))\n",
    "\n",
    "    for i, j in np.argwhere(hike_map=='<'):\n",
    "        for x, y in hike_graph[(i, j)].copy():\n",
    "            if j - 1 != y:\n",
    "                hike_graph.remove_edge((i, j), (x, y))\n",
    "\n",
    "    simple_paths = list(nx.all_simple_paths(hike_graph, min(hike_graph),  max(hike_graph)))\n",
    "    simple_paths.sort(key=len, reverse=True)\n",
    "\n",
    "    print('Answer to Day 23, Part 1:', len(simple_paths[0])-1)\n",
    "\n",
    "    simplified_graph = nx.grid_2d_graph(n=hike_map.shape[0], m=hike_map.shape[1], create_using=nx.Graph)\n",
    "    simplified_graph.remove_nodes_from(map(tuple, np.argwhere(hike_map=='#')))\n",
    "    for node in filter(lambda x: len(simplified_graph[x])==2, hike_graph):\n",
    "        neighbors = list(simplified_graph.neighbors(node))\n",
    "        simplified_graph.add_edge(\n",
    "            neighbors[0],\n",
    "            neighbors[1],\n",
    "            weight=simplified_graph[node][neighbors[0]].get('weight', 1) + simplified_graph[node][neighbors[1]].get('weight', 1)\n",
    "        )\n",
    "        simplified_graph.remove_node(node)\n",
    "\n",
    "    def longest_simple_path(graph, source, target, path_history=[], path_cost=0):\n",
    "        path_history = path_history.copy()\n",
    "        path_history.append(source)\n",
    "        if source==target:\n",
    "            return path_history, path_cost\n",
    "\n",
    "        possible_paths = []\n",
    "        for n in graph[source]:\n",
    "            if n not in path_history:\n",
    "                possible_paths.append(\n",
    "                    longest_simple_path(\n",
    "                        graph,\n",
    "                        source=n,\n",
    "                        target=target,\n",
    "                        path_history=path_history,\n",
    "                        path_cost=path_cost+graph[source][n]['weight']\n",
    "                    )\n",
    "                )\n",
    "\n",
    "        possible_paths = list(filter(lambda x: x is not None, possible_paths))\n",
    "        if len(possible_paths) > 0:\n",
    "            return sorted(possible_paths, key=lambda x: x[1], reverse=True)[0]\n",
    "        else:\n",
    "            return None\n",
    "        \n",
    "    path, cost = longest_simple_path(simplified_graph, source=min(simplified_graph), target=max(simplified_graph))\n",
    "    print('Answer to Day 23, Part 2:', cost)"
   ]
  }
 ],
 "metadata": {
  "kernelspec": {
   "display_name": "Python 3.7.4 ('base')",
   "language": "python",
   "name": "python3"
  },
  "language_info": {
   "codemirror_mode": {
    "name": "ipython",
    "version": 3
   },
   "file_extension": ".py",
   "mimetype": "text/x-python",
   "name": "python",
   "nbconvert_exporter": "python",
   "pygments_lexer": "ipython3",
   "version": "3.9.16"
  },
  "orig_nbformat": 4,
  "vscode": {
   "interpreter": {
    "hash": "18d1d3ba97577ef9370b2a90079ae3bfd326b2837f9027163a6623b63a7aa69b"
   }
  }
 },
 "nbformat": 4,
 "nbformat_minor": 2
}
