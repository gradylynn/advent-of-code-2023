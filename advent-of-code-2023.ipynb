{
 "cells": [
  {
   "cell_type": "markdown",
   "metadata": {},
   "source": [
    "Day 1 (https://adventofcode.com/2023/day/1)"
   ]
  },
  {
   "cell_type": "code",
   "execution_count": 1,
   "metadata": {},
   "outputs": [
    {
     "name": "stdout",
     "output_type": "stream",
     "text": [
      "Answer to Day 1, Part 1: 54338\n",
      "Answer to Day 1, Part 2: 53389\n"
     ]
    }
   ],
   "source": [
    "import re\n",
    "\n",
    "numbers_dict = {\n",
    "    '0': '0',\n",
    "    '1': '1',\n",
    "    '2': '2',\n",
    "    '3': '3',\n",
    "    '4': '4',\n",
    "    '5': '5',\n",
    "    '6': '6',\n",
    "    '7': '7',\n",
    "    '8': '8',\n",
    "    '9': '9',\n",
    "    'zero': '0',\n",
    "    'one': '1',\n",
    "    'two': '2',\n",
    "    'three': '3',\n",
    "    'four': '4',\n",
    "    'five': '5',\n",
    "    'six': '6',\n",
    "    'seven': '7',\n",
    "    'eight': '8',\n",
    "    'nine': '9'\n",
    "}\n",
    "\n",
    "# function for pt2 which transforms code with number-words into code with numbers\n",
    "def transform_code(code):\n",
    "    output = ['']*len(code)\n",
    "    for k in numbers_dict:\n",
    "        for x in re.finditer(k, code):\n",
    "            output[x.start()] = numbers_dict[k]\n",
    "    \n",
    "    return ''.join(filter(lambda x: x, output))\n",
    "\n",
    "with open('./inputs/day01.txt', 'r') as f:\n",
    "    # read in the codes\n",
    "    codes = list(map(lambda x: x.strip(), f.readlines()))\n",
    "\n",
    "    # keep only the digits\n",
    "    part1_codes = [''.join(filter(lambda x: x.isdigit(), c)) for c in codes]\n",
    "\n",
    "    # keep only first and last digist and sum everything to get our answer\n",
    "    print('Answer to Day 1, Part 1:', sum(map(int, [c[0] + c[-1] for c in part1_codes])))\n",
    "\n",
    "    # converting word numbers into digits\n",
    "    part2_codes = list(map(transform_code, codes))\n",
    "\n",
    "    # keep only first and last digist and sum everything to get our answer\n",
    "    print('Answer to Day 1, Part 2:', sum(map(int, [c[0] + c[-1] for c in part2_codes])))"
   ]
  },
  {
   "cell_type": "markdown",
   "metadata": {},
   "source": [
    "Day 2 (https://adventofcode.com/2023/day/2)"
   ]
  },
  {
   "cell_type": "code",
   "execution_count": 2,
   "metadata": {},
   "outputs": [
    {
     "name": "stdout",
     "output_type": "stream",
     "text": [
      "Answer to Day 2, Part 1: 3035\n",
      "Answer to Day 2, Part 2: 66027\n"
     ]
    }
   ],
   "source": [
    "import re\n",
    "\n",
    "with open('./inputs/day02.txt', 'r') as f:\n",
    "    # read in the games, store as dict\n",
    "    gamelines = list(map(lambda x: x.strip(), f.readlines()))\n",
    "    games = {}\n",
    "    for l in gamelines:\n",
    "        id_match = re.search('[0-9]+(?=:)', l)\n",
    "        id = int(id_match.group(0))\n",
    "        games[id] = [\n",
    "            {\n",
    "                'r': int(re.search('[0-9]+(?= red)', x).group(0)) if re.search('[0-9]+(?= red)', x) else 0,\n",
    "                'g': int(re.search('[0-9]+(?= green)', x).group(0)) if re.search('[0-9]+(?= green)', x) else 0,\n",
    "                'b': int(re.search('[0-9]+(?= blue)', x).group(0)) if re.search('[0-9]+(?= blue)', x) else 0,\n",
    "            }\n",
    "            for x in l.split(':')[1].split(';')\n",
    "        ]\n",
    "\n",
    "    # sum up ids that are still possible\n",
    "    part1_ans = sum((id for id in games if all((d['r'] <= 12 and d['g'] <= 13 and d['b'] <= 14 for d in games[id]))))\n",
    "    print('Answer to Day 2, Part 1:', part1_ans)\n",
    "\n",
    "    # sum up product of min number of cubes for each game\n",
    "    part2_ans = sum((max(d['r'] for d in games[id])*max(d['g'] for d in games[id])*max(d['b'] for d in games[id]) for id in games))\n",
    "    print('Answer to Day 2, Part 2:', part2_ans)"
   ]
  },
  {
   "cell_type": "markdown",
   "metadata": {},
   "source": [
    "Day 3 (https://adventofcode.com/2023/day/3)"
   ]
  },
  {
   "cell_type": "code",
   "execution_count": 3,
   "metadata": {},
   "outputs": [
    {
     "name": "stdout",
     "output_type": "stream",
     "text": [
      "Answer to Day 3, Part 1: 532331\n",
      "Answer to Day 3, Part 2: 82301120\n"
     ]
    }
   ],
   "source": [
    "import numpy as np\n",
    "import re\n",
    "\n",
    "with open('./inputs/day03.txt', 'r') as f:\n",
    "    lines = f.read().split('\\n')\n",
    "\n",
    "    # schematic as numpy array\n",
    "    a = np.array(list(map(list, lines)))\n",
    "\n",
    "    # use numpy array to search for symbols around each part number\n",
    "    part1_ans = 0\n",
    "    for i, l in enumerate(lines):\n",
    "        for m in re.finditer('[0-9]+', l):\n",
    "            search_area = a[max(0, i-1): i+2, max(0, m.start()-1): m.end()+1]\n",
    "            if any(s in search_area for s in ('#', '$', '%', '&', '*', '+', '-', '/', '=', '@')):\n",
    "                part1_ans += int(m.group(0))\n",
    "\n",
    "    print('Answer to Day 3, Part 1:', part1_ans)\n",
    "\n",
    "    # iterating similarly to part 1, but looking for coordinates of gears\n",
    "    gear_coords = {}\n",
    "    for i, l in enumerate(lines):\n",
    "        for m in re.finditer('[0-9]+', l):\n",
    "            search_area = a[max(0, i-1): i+2, max(0, m.start()-1): m.end()+1]\n",
    "            for coords in np.argwhere(search_area == '*'):\n",
    "                coords[0] += max(0, i-1)\n",
    "                coords[1] += max(0, m.start()-1)\n",
    "                if int(m.group(0)) in gear_coords:\n",
    "                    gear_coords[int(m.group(0))].append(tuple(coords))\n",
    "                else:\n",
    "                    gear_coords[int(m.group(0))] = [tuple(coords)]\n",
    "\n",
    "    # inverting a dict and going crazy with comprehension, but it works\n",
    "    parts_by_gear = {}\n",
    "    for part in gear_coords:\n",
    "        for gear_coord in gear_coords[part]:\n",
    "            if gear_coord in parts_by_gear:\n",
    "                parts_by_gear[gear_coord].append(part)\n",
    "            else:\n",
    "                parts_by_gear[gear_coord] = [part]\n",
    "\n",
    "    part2_ans = sum((parts_by_gear[gear_coord][0] * parts_by_gear[gear_coord][1] for gear_coord in parts_by_gear if len(parts_by_gear[gear_coord]) == 2))\n",
    "    print('Answer to Day 3, Part 2:', part2_ans)"
   ]
  },
  {
   "cell_type": "markdown",
   "metadata": {},
   "source": [
    "Day 4 (https://adventofcode.com/2023/day/4)"
   ]
  },
  {
   "cell_type": "code",
   "execution_count": 4,
   "metadata": {},
   "outputs": [
    {
     "name": "stdout",
     "output_type": "stream",
     "text": [
      "Answer to Day 4, Part 1: 20829\n",
      "Answer to Day 4, Part 2: 12648035\n"
     ]
    }
   ],
   "source": [
    "with open('./inputs/day04.txt', 'r') as f:\n",
    "    lines = f.read().split('\\n')\n",
    "    nums = [{\n",
    "        'mine': set(map(int, l.split(':')[-1].split('|')[0].split())),\n",
    "        'winners': set(map(int, l.split(':')[-1].split('|')[1].split())),\n",
    "    } for l in lines]\n",
    "\n",
    "    part1_ans = 0\n",
    "    for n in nums:\n",
    "        x = len(n['mine'].intersection(n['winners']))\n",
    "        part1_ans += 2**(x-1) if x > 0 else 0\n",
    "\n",
    "    print('Answer to Day 4, Part 1:', part1_ans)\n",
    "\n",
    "    # calculating how many of each card we'll have!\n",
    "    cards = [1] * len(nums)\n",
    "    for i, n in enumerate(nums):\n",
    "        for j in range(len(n['mine'].intersection(n['winners']))):\n",
    "            cards[i+j+1] += cards[i]\n",
    "\n",
    "    print('Answer to Day 4, Part 2:', sum(cards))"
   ]
  }
 ],
 "metadata": {
  "kernelspec": {
   "display_name": "Python 3.7.4 ('base')",
   "language": "python",
   "name": "python3"
  },
  "language_info": {
   "codemirror_mode": {
    "name": "ipython",
    "version": 3
   },
   "file_extension": ".py",
   "mimetype": "text/x-python",
   "name": "python",
   "nbconvert_exporter": "python",
   "pygments_lexer": "ipython3",
   "version": "3.9.16"
  },
  "orig_nbformat": 4,
  "vscode": {
   "interpreter": {
    "hash": "18d1d3ba97577ef9370b2a90079ae3bfd326b2837f9027163a6623b63a7aa69b"
   }
  }
 },
 "nbformat": 4,
 "nbformat_minor": 2
}
