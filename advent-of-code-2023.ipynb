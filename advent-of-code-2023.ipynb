{
 "cells": [
  {
   "cell_type": "markdown",
   "metadata": {},
   "source": [
    "Day 1 (https://adventofcode.com/2023/day/1)"
   ]
  },
  {
   "cell_type": "code",
   "execution_count": null,
   "metadata": {},
   "outputs": [],
   "source": [
    "import re\n",
    "\n",
    "numbers_dict = {\n",
    "    '0': '0',\n",
    "    '1': '1',\n",
    "    '2': '2',\n",
    "    '3': '3',\n",
    "    '4': '4',\n",
    "    '5': '5',\n",
    "    '6': '6',\n",
    "    '7': '7',\n",
    "    '8': '8',\n",
    "    '9': '9',\n",
    "    'zero': '0',\n",
    "    'one': '1',\n",
    "    'two': '2',\n",
    "    'three': '3',\n",
    "    'four': '4',\n",
    "    'five': '5',\n",
    "    'six': '6',\n",
    "    'seven': '7',\n",
    "    'eight': '8',\n",
    "    'nine': '9'\n",
    "}\n",
    "\n",
    "# function for pt2 which transforms code with number-words into code with numbers\n",
    "def transform_code(code):\n",
    "    output = ['']*len(code)\n",
    "    for k in numbers_dict:\n",
    "        for x in re.finditer(k, code):\n",
    "            output[x.start()] = numbers_dict[k]\n",
    "    \n",
    "    return ''.join(filter(lambda x: x, output))\n",
    "\n",
    "with open('./inputs/day01.txt', 'r') as f:\n",
    "    # read in the codes\n",
    "    codes = list(map(lambda x: x.strip(), f.readlines()))\n",
    "\n",
    "    # keep only the digits\n",
    "    part1_codes = [''.join(filter(lambda x: x.isdigit(), c)) for c in codes]\n",
    "\n",
    "    # keep only first and last digist and sum everything to get our answer\n",
    "    print('Answer to Day 1, Part 1:', sum(map(int, [c[0] + c[-1] for c in part1_codes])))\n",
    "\n",
    "    # converting word numbers into digits\n",
    "    part2_codes = list(map(transform_code, codes))\n",
    "\n",
    "    # keep only first and last digist and sum everything to get our answer\n",
    "    print('Answer to Day 1, Part 2:', sum(map(int, [c[0] + c[-1] for c in part2_codes])))"
   ]
  }
 ],
 "metadata": {
  "kernelspec": {
   "display_name": "Python 3.7.4 ('base')",
   "language": "python",
   "name": "python3"
  },
  "language_info": {
   "codemirror_mode": {
    "name": "ipython",
    "version": 3
   },
   "file_extension": ".py",
   "mimetype": "text/x-python",
   "name": "python",
   "nbconvert_exporter": "python",
   "pygments_lexer": "ipython3",
   "version": "3.9.16"
  },
  "orig_nbformat": 4,
  "vscode": {
   "interpreter": {
    "hash": "18d1d3ba97577ef9370b2a90079ae3bfd326b2837f9027163a6623b63a7aa69b"
   }
  }
 },
 "nbformat": 4,
 "nbformat_minor": 2
}
