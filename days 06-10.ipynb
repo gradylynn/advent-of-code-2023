{
 "cells": [
  {
   "cell_type": "markdown",
   "metadata": {},
   "source": [
    "Day 6 (https://adventofcode.com/2023/day/6)"
   ]
  },
  {
   "cell_type": "code",
   "execution_count": 1,
   "metadata": {},
   "outputs": [
    {
     "name": "stdout",
     "output_type": "stream",
     "text": [
      "Answer to Day 6, Part 1: 861300\n",
      "Answer to Day 6, Part 2: 28101347\n"
     ]
    }
   ],
   "source": [
    "with open('./inputs/day06.txt', 'r') as f:\n",
    "    lines = f.readlines()\n",
    "    races = [\n",
    "        {\n",
    "            'time': int(l0),\n",
    "            'dist': int(l1)\n",
    "        } for l0, l1 in zip(lines[0].split()[1:], lines[1].split()[1:])\n",
    "    ]\n",
    "\n",
    "    # function to calculate dist travelled\n",
    "    def get_dist(total_time, button_time):\n",
    "        return (total_time - button_time) * button_time\n",
    "    \n",
    "    # find num ways to win\n",
    "    part1_ans = 1\n",
    "    for race in races:\n",
    "        part1_ans *= sum((get_dist(race['time'], i) > race['dist'] for i in range(race['time']+1)))\n",
    "\n",
    "    print('Answer to Day 6, Part 1:', part1_ans)\n",
    "\n",
    "    race = {\n",
    "        'time': int(''.join(lines[0].split()[1:])),\n",
    "        'dist': int(''.join(lines[1].split()[1:]))\n",
    "    }\n",
    "\n",
    "    # takes a few seconds, but I can just use the same method\n",
    "    print('Answer to Day 6, Part 2:', sum((get_dist(race['time'], i) > race['dist'] for i in range(race['time']+1))))"
   ]
  },
  {
   "cell_type": "markdown",
   "metadata": {},
   "source": [
    "Day 7 (https://adventofcode.com/2023/day/7)"
   ]
  },
  {
   "cell_type": "code",
   "execution_count": 2,
   "metadata": {},
   "outputs": [
    {
     "name": "stdout",
     "output_type": "stream",
     "text": [
      "Answer to Day 7, Part 1: 250957639\n",
      "Answer to Day 7, Part 2: 251515496\n"
     ]
    }
   ],
   "source": [
    "import functools\n",
    "import itertools\n",
    "\n",
    "@functools.total_ordering\n",
    "class Hand:\n",
    "    card_ranks = ['2', '3', '4', '5', '6', '7', '8', '9', 'T', 'J', 'Q', 'K', 'A']\n",
    "    def __init__(self, hand_str):\n",
    "        self.cards = [Hand.card_ranks.index(c) for c in hand_str]\n",
    "\n",
    "    @property\n",
    "    def hand_type(self):\n",
    "        card_set = set(self.cards)\n",
    "        # 5 of a kind\n",
    "        if len(card_set) == 1:\n",
    "            return 6\n",
    "        # 4 of a kind\n",
    "        if any((self.cards.count(c)==4 for c in card_set)):\n",
    "            return 5\n",
    "        # full house\n",
    "        if any((self.cards.count(c)==3 for c in card_set)) and any((self.cards.count(c)==2 for c in card_set)):\n",
    "            return 4\n",
    "        # 3 of a kind\n",
    "        if any((self.cards.count(c)==3 for c in card_set)):\n",
    "            return 3\n",
    "        # 2 pair\n",
    "        if sum((self.cards.count(c)==2 for c in card_set)) == 2:\n",
    "            return 2\n",
    "        # 1 pair\n",
    "        if any((self.cards.count(c)==2 for c in card_set)):\n",
    "            return 1\n",
    "        # high card\n",
    "        else:\n",
    "            return 0\n",
    "        \n",
    "    def __repr__(self):\n",
    "        return str([Hand.card_ranks[i] for i in self.cards])\n",
    "        \n",
    "    def __eq__(self, other):\n",
    "        return all(c1==c2 for c1, c2 in zip(self.cards, other.cards))\n",
    "    \n",
    "    def __gt__(self, other):\n",
    "        if self.hand_type > other.hand_type:\n",
    "            return True\n",
    "        elif self.hand_type == other.hand_type:\n",
    "            return self.cards > other.cards\n",
    "        else:\n",
    "            return False\n",
    "        \n",
    "@functools.total_ordering\n",
    "class Hand2:\n",
    "    card_ranks = ['J', '2', '3', '4', '5', '6', '7', '8', '9', 'T', 'Q', 'K', 'A']\n",
    "    def __init__(self, hand_str):\n",
    "        self.cards = [Hand2.card_ranks.index(c) for c in hand_str]\n",
    "\n",
    "    def orig_hand_type(cards):\n",
    "        return Hand(''.join((Hand2.card_ranks[i] for i in cards))).hand_type\n",
    "    \n",
    "    @property\n",
    "    def hand_type(self):\n",
    "        wilds_iter = itertools.combinations_with_replacement(range(1, len(Hand2.card_ranks)), self.cards.count(0))\n",
    "        return max(list(Hand2.orig_hand_type(list(filter(lambda x: x!=0, self.cards)) + list(wilds)) for wilds in wilds_iter))\n",
    "\n",
    "    def __repr__(self):\n",
    "        return str([Hand.card_ranks[i] for i in self.cards])\n",
    "        \n",
    "    def __eq__(self, other):\n",
    "        return all(c1==c2 for c1, c2 in zip(self.cards, other.cards))\n",
    "    \n",
    "    def __gt__(self, other):\n",
    "        if self.hand_type > other.hand_type:\n",
    "            return True\n",
    "        elif self.hand_type == other.hand_type:\n",
    "            return self.cards > other.cards\n",
    "        else:\n",
    "            return False\n",
    "\n",
    "with open('./inputs/day07.txt', 'r') as f:\n",
    "    lines = [{'hand': l.split()[0], 'bid': int(l.split()[1])} for l in f.readlines()]\n",
    "    print('Answer to Day 7, Part 1:', sum(((i+1)*l['bid']) for i, l in enumerate(sorted(lines, key=lambda x: Hand(x['hand'])))))\n",
    "    print('Answer to Day 7, Part 2:', sum(((i+1)*l['bid']) for i, l in enumerate(sorted(lines, key=lambda x: Hand2(x['hand'])))))"
   ]
  },
  {
   "cell_type": "markdown",
   "metadata": {},
   "source": [
    "Day 8 (https://adventofcode.com/2023/day/8)"
   ]
  },
  {
   "cell_type": "code",
   "execution_count": 3,
   "metadata": {},
   "outputs": [
    {
     "name": "stdout",
     "output_type": "stream",
     "text": [
      "Answer to Day 8, Part 1: 13301\n",
      "Answer to Day 8, Part 2: 7309459565207\n"
     ]
    }
   ],
   "source": [
    "with open('./inputs/day08.txt', 'r') as f:\n",
    "    lines = f.readlines()\n",
    "    directions = lines[0].strip()\n",
    "    nodes = {n[0:3]: (n[7:10], n[12:15]) for n in lines[2:]}\n",
    "\n",
    "    num_steps = 0\n",
    "    current_location = 'AAA'\n",
    "    while current_location != 'ZZZ':\n",
    "        for step in directions:\n",
    "            current_location = nodes[current_location][0 if step == 'L' else 1]\n",
    "            num_steps += 1\n",
    "\n",
    "    print('Answer to Day 8, Part 1:', num_steps)\n",
    "\n",
    "    # not sure that this method works generally. but hey, it got me the answer 🤷‍♂️\n",
    "    part2_ans = len(directions)\n",
    "    for pos in filter(lambda x: x[-1] == 'A', nodes.keys()):\n",
    "        num_iterations = 0\n",
    "        while pos[-1] != 'Z':\n",
    "            for step in directions:\n",
    "                pos = nodes[pos][0 if step == 'L' else 1]\n",
    "            \n",
    "            num_iterations += 1\n",
    "\n",
    "        part2_ans*=num_iterations\n",
    "\n",
    "    print('Answer to Day 8, Part 2:', part2_ans)"
   ]
  }
 ],
 "metadata": {
  "kernelspec": {
   "display_name": "Python 3",
   "language": "python",
   "name": "python3"
  },
  "language_info": {
   "codemirror_mode": {
    "name": "ipython",
    "version": 3
   },
   "file_extension": ".py",
   "mimetype": "text/x-python",
   "name": "python",
   "nbconvert_exporter": "python",
   "pygments_lexer": "ipython3",
   "version": "3.9.16"
  }
 },
 "nbformat": 4,
 "nbformat_minor": 2
}
