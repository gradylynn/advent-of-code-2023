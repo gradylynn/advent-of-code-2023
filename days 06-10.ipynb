{
 "cells": [
  {
   "cell_type": "markdown",
   "metadata": {},
   "source": [
    "Day 6 (https://adventofcode.com/2023/day/6)"
   ]
  },
  {
   "cell_type": "code",
   "execution_count": 1,
   "metadata": {},
   "outputs": [
    {
     "name": "stdout",
     "output_type": "stream",
     "text": [
      "Answer to Day 6, Part 1: 861300\n",
      "Answer to Day 6, Part 2: 28101347\n"
     ]
    }
   ],
   "source": [
    "with open('./inputs/day06.txt', 'r') as f:\n",
    "    lines = f.readlines()\n",
    "    races = [\n",
    "        {\n",
    "            'time': int(l0),\n",
    "            'dist': int(l1)\n",
    "        } for l0, l1 in zip(lines[0].split()[1:], lines[1].split()[1:])\n",
    "    ]\n",
    "\n",
    "    # function to calculate dist travelled\n",
    "    def get_dist(total_time, button_time):\n",
    "        return (total_time - button_time) * button_time\n",
    "    \n",
    "    # find num ways to win\n",
    "    part1_ans = 1\n",
    "    for race in races:\n",
    "        part1_ans *= sum((get_dist(race['time'], i) > race['dist'] for i in range(race['time']+1)))\n",
    "\n",
    "    print('Answer to Day 6, Part 1:', part1_ans)\n",
    "\n",
    "    race = {\n",
    "        'time': int(''.join(lines[0].split()[1:])),\n",
    "        'dist': int(''.join(lines[1].split()[1:]))\n",
    "    }\n",
    "\n",
    "    # takes a few seconds, but I can just use the same method\n",
    "    print('Answer to Day 6, Part 2:', sum((get_dist(race['time'], i) > race['dist'] for i in range(race['time']+1))))"
   ]
  }
 ],
 "metadata": {
  "kernelspec": {
   "display_name": "Python 3",
   "language": "python",
   "name": "python3"
  },
  "language_info": {
   "codemirror_mode": {
    "name": "ipython",
    "version": 3
   },
   "file_extension": ".py",
   "mimetype": "text/x-python",
   "name": "python",
   "nbconvert_exporter": "python",
   "pygments_lexer": "ipython3",
   "version": "3.9.16"
  }
 },
 "nbformat": 4,
 "nbformat_minor": 2
}
