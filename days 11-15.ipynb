{
 "cells": [
  {
   "cell_type": "markdown",
   "metadata": {},
   "source": [
    "Day 11 (https://adventofcode.com/2023/day/11)"
   ]
  },
  {
   "cell_type": "code",
   "execution_count": 1,
   "metadata": {},
   "outputs": [
    {
     "name": "stdout",
     "output_type": "stream",
     "text": [
      "Answer to Day 11, Part 1: 10885634\n",
      "Answer to Day 11, Part 2: 707505470642\n"
     ]
    }
   ],
   "source": [
    "import numpy as np\n",
    "import itertools\n",
    "\n",
    "with open('./inputs/day11.txt', 'r') as f:\n",
    "    orig_galaxy_map = np.array([list(l.strip()) for l in f.readlines()])\n",
    "    galaxy_map = orig_galaxy_map.copy()\n",
    "\n",
    "    vertical_expansions = []\n",
    "    for i in range(galaxy_map.shape[0]-1, -1, -1):\n",
    "        if np.sum(galaxy_map[i, :]=='#')==0:\n",
    "            vertical_expansions.append(i)\n",
    "            galaxy_map = np.insert(galaxy_map, i, galaxy_map[i, :].copy(), axis=0)\n",
    "\n",
    "    horizontal_expansions = []\n",
    "    for i in range(galaxy_map.shape[1]-1, -1, -1):\n",
    "        if np.sum(galaxy_map[:, i]=='#')==0:\n",
    "            horizontal_expansions.append(i)\n",
    "            galaxy_map = np.insert(galaxy_map, i, galaxy_map[:, i].copy(), axis=1)\n",
    "\n",
    "    # sum manhattan distances for answer\n",
    "    part1_ans = sum(abs(i[0]-j[0]) + abs(i[1]-j[1]) for i, j in itertools.combinations(np.argwhere(galaxy_map=='#'), 2))\n",
    "    print('Answer to Day 11, Part 1:', part1_ans)\n",
    "\n",
    "    # custom function for part 2\n",
    "    def galaxy_dist(galaxy1, galaxy2):\n",
    "        output = abs(galaxy1[0]-galaxy2[0]) + abs(galaxy1[1]-galaxy2[1])\n",
    "        output += 999999*len([i for i in vertical_expansions if i < max(galaxy1[0], galaxy2[0]) and i > min(galaxy1[0], galaxy2[0])])\n",
    "        output += 999999*len([i for i in horizontal_expansions if i < max(galaxy1[1], galaxy2[1]) and i > min(galaxy1[1], galaxy2[1])])\n",
    "        return output\n",
    "\n",
    "    part2_ans = sum(galaxy_dist(i, j) for i, j in itertools.combinations(np.argwhere(orig_galaxy_map=='#'), 2))\n",
    "    print('Answer to Day 11, Part 2:', part2_ans)"
   ]
  }
 ],
 "metadata": {
  "kernelspec": {
   "display_name": "Python 3",
   "language": "python",
   "name": "python3"
  },
  "language_info": {
   "codemirror_mode": {
    "name": "ipython",
    "version": 3
   },
   "file_extension": ".py",
   "mimetype": "text/x-python",
   "name": "python",
   "nbconvert_exporter": "python",
   "pygments_lexer": "ipython3",
   "version": "3.9.16"
  }
 },
 "nbformat": 4,
 "nbformat_minor": 2
}
