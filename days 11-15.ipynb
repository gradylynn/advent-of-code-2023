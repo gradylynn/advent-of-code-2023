{
 "cells": [
  {
   "cell_type": "markdown",
   "metadata": {},
   "source": [
    "Day 11 (https://adventofcode.com/2023/day/11)"
   ]
  },
  {
   "cell_type": "code",
   "execution_count": 1,
   "metadata": {},
   "outputs": [
    {
     "name": "stdout",
     "output_type": "stream",
     "text": [
      "Answer to Day 11, Part 1: 10885634\n",
      "Answer to Day 11, Part 2: 707505470642\n"
     ]
    }
   ],
   "source": [
    "import numpy as np\n",
    "import itertools\n",
    "\n",
    "with open('./inputs/day11.txt', 'r') as f:\n",
    "    orig_galaxy_map = np.array([list(l.strip()) for l in f.readlines()])\n",
    "    galaxy_map = orig_galaxy_map.copy()\n",
    "\n",
    "    vertical_expansions = []\n",
    "    for i in range(galaxy_map.shape[0]-1, -1, -1):\n",
    "        if np.sum(galaxy_map[i, :]=='#')==0:\n",
    "            vertical_expansions.append(i)\n",
    "            galaxy_map = np.insert(galaxy_map, i, galaxy_map[i, :].copy(), axis=0)\n",
    "\n",
    "    horizontal_expansions = []\n",
    "    for i in range(galaxy_map.shape[1]-1, -1, -1):\n",
    "        if np.sum(galaxy_map[:, i]=='#')==0:\n",
    "            horizontal_expansions.append(i)\n",
    "            galaxy_map = np.insert(galaxy_map, i, galaxy_map[:, i].copy(), axis=1)\n",
    "\n",
    "    # sum manhattan distances for answer\n",
    "    part1_ans = sum(abs(i[0]-j[0]) + abs(i[1]-j[1]) for i, j in itertools.combinations(np.argwhere(galaxy_map=='#'), 2))\n",
    "    print('Answer to Day 11, Part 1:', part1_ans)\n",
    "\n",
    "    # custom function for part 2\n",
    "    def galaxy_dist(galaxy1, galaxy2):\n",
    "        output = abs(galaxy1[0]-galaxy2[0]) + abs(galaxy1[1]-galaxy2[1])\n",
    "        output += 999999*len([i for i in vertical_expansions if i < max(galaxy1[0], galaxy2[0]) and i > min(galaxy1[0], galaxy2[0])])\n",
    "        output += 999999*len([i for i in horizontal_expansions if i < max(galaxy1[1], galaxy2[1]) and i > min(galaxy1[1], galaxy2[1])])\n",
    "        return output\n",
    "\n",
    "    part2_ans = sum(galaxy_dist(i, j) for i, j in itertools.combinations(np.argwhere(orig_galaxy_map=='#'), 2))\n",
    "    print('Answer to Day 11, Part 2:', part2_ans)"
   ]
  },
  {
   "cell_type": "markdown",
   "metadata": {},
   "source": [
    "Day 12 (https://adventofcode.com/2023/day/12)"
   ]
  },
  {
   "cell_type": "code",
   "execution_count": 2,
   "metadata": {},
   "outputs": [
    {
     "name": "stdout",
     "output_type": "stream",
     "text": [
      "Answer to Day 12, Part 1: 7857\n",
      "Answer to Day 12, Part 2: 28606137449920\n"
     ]
    }
   ],
   "source": [
    "import itertools\n",
    "import re\n",
    "\n",
    "with open('./inputs/day12.txt', 'r') as f:\n",
    "    report = [\n",
    "        {\n",
    "            'report_str': l.split()[0],\n",
    "            'report_list': [int(x) for x in l.split()[1].split(',')]\n",
    "        }\n",
    "        for l in f.readlines()\n",
    "    ]\n",
    "\n",
    "    # function to check whether given string-list configuration is valid\n",
    "    def is_valid(report_str, report_list):\n",
    "        runs = list(filter(lambda x: len(x) > 0, report_str.split('.')))\n",
    "        return all((len(x)==n for x, n in zip(runs, report_list))) and len(runs) == len(report_list)\n",
    "    \n",
    "    # function to iterate through different possibilities of dirty string\n",
    "    def possibilities(dirty_report_str):\n",
    "        for i in itertools.product('.#', repeat=dirty_report_str.count('?')):\n",
    "            stuff = iter(i)\n",
    "            yield ''.join((next(stuff) if c=='?' else c for c in dirty_report_str))\n",
    "\n",
    "    # just brute-force checking validity for part 1\n",
    "    part1_ans = sum([sum(is_valid(p, d['report_list']) for p in possibilities(d['report_str'])) for d in report])\n",
    "    print('Answer to Day 12, Part 1:', part1_ans)\n",
    "\n",
    "    # ugh: can't brute force part 2 :-(\n",
    "    report2 = [\n",
    "        {\n",
    "            'report_str': '?'.join([d['report_str']]*5),\n",
    "            'report_list': sum([d['report_list']]*5, start=[])\n",
    "        }\n",
    "        for d in report\n",
    "    ]\n",
    "\n",
    "    cached_results = {}\n",
    "    def get_num_solutions(s, l):\n",
    "        if len(l)==0:\n",
    "            return int('#' not in s)\n",
    "\n",
    "        cached_result = cached_results.get((s.strip('.'), tuple(l)))\n",
    "        if cached_result is not None:\n",
    "            return cached_result\n",
    "        \n",
    "        num_solutions = 0\n",
    "        for m in re.finditer(rf'(?=((#|\\?){{{l[0]}}})(\\.|\\?|$))', s):\n",
    "            if len(s[m.end(1):]) < sum(l[1:]) + len(l[1:]) or '#' in s[:m.start(1)]:\n",
    "                break\n",
    "\n",
    "            num_solutions += get_num_solutions(s[m.end(1)+1:], l[1:])\n",
    "\n",
    "        cached_results[(s.strip('.'), tuple(l))] = num_solutions\n",
    "        return num_solutions\n",
    "\n",
    "    part2_ans = sum([get_num_solutions(d['report_str'], d['report_list']) for d in report2])\n",
    "    print('Answer to Day 12, Part 2:', part2_ans)"
   ]
  }
 ],
 "metadata": {
  "kernelspec": {
   "display_name": "Python 3",
   "language": "python",
   "name": "python3"
  },
  "language_info": {
   "codemirror_mode": {
    "name": "ipython",
    "version": 3
   },
   "file_extension": ".py",
   "mimetype": "text/x-python",
   "name": "python",
   "nbconvert_exporter": "python",
   "pygments_lexer": "ipython3",
   "version": "3.9.16"
  }
 },
 "nbformat": 4,
 "nbformat_minor": 2
}
